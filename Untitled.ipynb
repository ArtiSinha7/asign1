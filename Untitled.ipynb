{
 "cells": [
  {
   "cell_type": "code",
   "execution_count": null,
   "id": "12c240db-7f26-4986-9cc0-f14aa2622926",
   "metadata": {},
   "outputs": [],
   "source": [
    "Q1. Create one variable containing following type of data: 1.string  2.list  3.float  4.tuple"
   ]
  },
  {
   "cell_type": "code",
   "execution_count": null,
   "id": "c49b0e20-2104-4d2c-9af2-854b94a4db3a",
   "metadata": {},
   "outputs": [],
   "source": [
    " 'string': \"hello world\""
   ]
  },
  {
   "cell_type": "code",
   "execution_count": null,
   "id": "f311c73c-23d3-407d-9714-4ed983b82859",
   "metadata": {},
   "outputs": [],
   "source": [
    "list: [23, \"list\" , True, 67.54, 34+76j ]"
   ]
  },
  {
   "cell_type": "code",
   "execution_count": null,
   "id": "aea4942c-0bbf-47f8-b296-0f429ccf749d",
   "metadata": {},
   "outputs": [],
   "source": [
    "float: 66.97, 489.97 "
   ]
  },
  {
   "cell_type": "code",
   "execution_count": null,
   "id": "f1064f7a-e74b-404f-bcab-04210af2dd78",
   "metadata": {},
   "outputs": [],
   "source": [
    "tuple: (23, \"list\" , True, 67.54, 34+76j, \"bihar\")"
   ]
  },
  {
   "cell_type": "code",
   "execution_count": 2,
   "id": "4468c2bb-b035-4f4c-be82-8f2503e900bc",
   "metadata": {},
   "outputs": [],
   "source": [
    "Given are some following variables containing data: 1. var1=' '  2. var2='[DS, ML, Python]' 3.var3=['DS', 'ML', 'Python'] 4. var4=1. What will be the type of the above given variable"
   ]
  },
  {
   "cell_type": "code",
   "execution_count": null,
   "id": "754c61a1-8fef-4994-9f76-6ac1e9e0e779",
   "metadata": {},
   "outputs": [],
   "source": [
    "var1= string"
   ]
  },
  {
   "cell_type": "code",
   "execution_count": null,
   "id": "f31a5c60-fcc6-47cc-aba9-e2da0da359ff",
   "metadata": {},
   "outputs": [],
   "source": [
    "var2= string"
   ]
  },
  {
   "cell_type": "code",
   "execution_count": null,
   "id": "eef7eecf-a365-4a72-bde8-cdd7b432e5f0",
   "metadata": {},
   "outputs": [],
   "source": [
    "var3= list"
   ]
  },
  {
   "cell_type": "code",
   "execution_count": null,
   "id": "3d8118f7-c900-487e-9505-bbd3f5019539",
   "metadata": {},
   "outputs": [],
   "source": [
    "var4= integer"
   ]
  },
  {
   "cell_type": "code",
   "execution_count": null,
   "id": "dcd42a7c-e3dc-48b5-b1e4-f5d8ef917b24",
   "metadata": {},
   "outputs": [],
   "source": [
    "Q3. Explain the use of the following operators using an example. / , %, // , **"
   ]
  },
  {
   "cell_type": "code",
   "execution_count": null,
   "id": "2e2d1cd1-2e1d-4491-bb4e-4eb4d6498d87",
   "metadata": {},
   "outputs": [],
   "source": [
    "/ = Division between 2 operands. It shows only questient part."
   ]
  },
  {
   "cell_type": "code",
   "execution_count": null,
   "id": "35e13c6c-5c2c-45f8-9f70-a93bd5733734",
   "metadata": {},
   "outputs": [],
   "source": [
    "ex- 42/7= 6"
   ]
  },
  {
   "cell_type": "code",
   "execution_count": null,
   "id": "2cade54c-c9a5-423b-a697-dbdd2c9b4b30",
   "metadata": {},
   "outputs": [],
   "source": [
    "%= modulus operator. It gives only remainder of the integer divison "
   ]
  },
  {
   "cell_type": "code",
   "execution_count": 8,
   "id": "d2960f5f-80fa-4d45-a1ef-da3732c1c829",
   "metadata": {},
   "outputs": [
    {
     "data": {
      "text/plain": [
       "1"
      ]
     },
     "execution_count": 8,
     "metadata": {},
     "output_type": "execute_result"
    }
   ],
   "source": [
    " 56%5\n",
    "    "
   ]
  },
  {
   "cell_type": "code",
   "execution_count": null,
   "id": "f8ca8623-5122-4756-b95e-d4015f855898",
   "metadata": {},
   "outputs": [],
   "source": [
    "//= floor division. It rounds the result to the nearest integer."
   ]
  },
  {
   "cell_type": "code",
   "execution_count": 9,
   "id": "c045dc26-c6b7-4e93-b3fd-a88b65f7d16c",
   "metadata": {},
   "outputs": [
    {
     "data": {
      "text/plain": [
       "3"
      ]
     },
     "execution_count": 9,
     "metadata": {},
     "output_type": "execute_result"
    }
   ],
   "source": [
    "10//3"
   ]
  },
  {
   "cell_type": "code",
   "execution_count": null,
   "id": "4fd63624-0405-4c30-b266-bce296dfa4b7",
   "metadata": {},
   "outputs": [],
   "source": [
    "**= to find power of 2 integers"
   ]
  },
  {
   "cell_type": "code",
   "execution_count": 10,
   "id": "8a4f4ea7-a77d-43f8-bc7b-8b7422465549",
   "metadata": {},
   "outputs": [
    {
     "data": {
      "text/plain": [
       "243"
      ]
     },
     "execution_count": 10,
     "metadata": {},
     "output_type": "execute_result"
    }
   ],
   "source": [
    "3**5"
   ]
  },
  {
   "cell_type": "code",
   "execution_count": null,
   "id": "e3352ac2-10ff-4c09-b09d-6ad214535f82",
   "metadata": {},
   "outputs": [],
   "source": [
    "Q4. Create a list of length 10 of your choice containing multiple types of data. Using for loop print the element and its type."
   ]
  },
  {
   "cell_type": "code",
   "execution_count": 15,
   "id": "ae91f78a-2cbb-4cb1-b0f2-6514c4fb9c6c",
   "metadata": {},
   "outputs": [
    {
     "ename": "IndentationError",
     "evalue": "unindent does not match any outer indentation level (<tokenize>, line 4)",
     "output_type": "error",
     "traceback": [
      "\u001b[0;36m  File \u001b[0;32m<tokenize>:4\u001b[0;36m\u001b[0m\n\u001b[0;31m    print(\"No of element in list are :\", len(i))\u001b[0m\n\u001b[0m    ^\u001b[0m\n\u001b[0;31mIndentationError\u001b[0m\u001b[0;31m:\u001b[0m unindent does not match any outer indentation level\n"
     ]
    }
   ],
   "source": [
    "i= ['Python', 77, 66.5, True ,[0,5,10], 98+6j,'abc', (1,2,3,'bihar'), 'dsa']\n",
    "       \n",
    "       for element in i:\n",
    "    print(\"No of element in list are :\", len(i))"
   ]
  },
  {
   "cell_type": "code",
   "execution_count": null,
   "id": "bba766ca-8d5c-455e-95ae-8cc3b5ef7a36",
   "metadata": {},
   "outputs": [],
   "source": []
  },
  {
   "cell_type": "code",
   "execution_count": null,
   "id": "af0dfedb-e625-4ad7-99fe-89e381a228f7",
   "metadata": {},
   "outputs": [],
   "source": [
    "Q5. Using a while loop , verify if the number A is purely divisible by B and if so then how many times it can be divisible."
   ]
  },
  {
   "cell_type": "code",
   "execution_count": 18,
   "id": "e3cc1f8f-896a-4f8d-80e6-ae733cb67c01",
   "metadata": {},
   "outputs": [
    {
     "name": "stdout",
     "output_type": "stream",
     "text": [
      " A is divisible by B{count} times.\n",
      " A is divisible by B{count} times.\n"
     ]
    }
   ],
   "source": [
    "A= 100\n",
    "B=10\n",
    "count= 0;\n",
    "\n",
    "while A % B ==0:\n",
    "    A/=B\n",
    "    count += 1\n",
    "    \n",
    "    print(\" A is divisible by B{count} times.\")"
   ]
  },
  {
   "cell_type": "code",
   "execution_count": null,
   "id": "45cc405f-1e3b-4676-8395-bd394931935a",
   "metadata": {},
   "outputs": [],
   "source": [
    "Q6. Create a list containing 25 int type data.Using for loop anf if-else condition print if the element is divisible by 3 or not.\n",
    "\n",
    "\n",
    "ans.\n",
    "l=[ 6,47, 8, 9, 45 ,6745, 56, 98, 4, 35, 23, 43, 45, 5678, 34, 53, 222, 72, 112, 121, 135, 144, 287, 457,987, 90, 76]\n",
    "\n",
    "for element in l:\n",
    "    if element % 3 ==0:\n",
    "        printf(\"{element} is divisible by 3. \")\n",
    "        else:\n",
    "            printf(\"{element} is not divisible by 3.\")\n",
    "\n"
   ]
  },
  {
   "cell_type": "code",
   "execution_count": null,
   "id": "210ca594-295f-4b4b-8bab-6277e429b908",
   "metadata": {},
   "outputs": [],
   "source": [
    "What do you understand about mutable and immutable data type? Give an example of both showing their property.\n",
    "\n",
    "ans.\n",
    " Mutable data type: Mutable data type are those values that can be modified after creation. They can be changed without creating new objects.\n",
    "    list, dictionaries, set are mutable.\n",
    "\n",
    "Immutable data type: Mutable data type are those values that can not  be modified after creation. \n",
    "integers, float, string are immutable.\n"
   ]
  },
  {
   "cell_type": "code",
   "execution_count": null,
   "id": "d78a5422-2738-43f5-9ca4-ddd034f0be3c",
   "metadata": {},
   "outputs": [],
   "source": [
    "Examples of mutable data type:-"
   ]
  },
  {
   "cell_type": "code",
   "execution_count": null,
   "id": "31eb60e4-b636-4aea-90bf-8c0ba39ab63e",
   "metadata": {},
   "outputs": [],
   "source": [
    "1. List"
   ]
  },
  {
   "cell_type": "code",
   "execution_count": null,
   "id": "2bf3d73d-6f0e-4312-b404-c0b745faddd9",
   "metadata": {},
   "outputs": [],
   "source": [
    "l1=[1, 2, 3]"
   ]
  },
  {
   "cell_type": "code",
   "execution_count": 25,
   "id": "bce48cdf-e3f0-4125-99d0-ce4b064a542d",
   "metadata": {},
   "outputs": [],
   "source": [
    "l1.append(4, 4)"
   ]
  },
  {
   "cell_type": "code",
   "execution_count": 26,
   "id": "253604cc-2f90-4f88-b851-9e36194c5602",
   "metadata": {},
   "outputs": [
    {
     "data": {
      "text/plain": [
       "[1, 2, 3, 4, 4]"
      ]
     },
     "execution_count": 26,
     "metadata": {},
     "output_type": "execute_result"
    }
   ],
   "source": [
    "l1"
   ]
  },
  {
   "cell_type": "code",
   "execution_count": null,
   "id": "9ccae5d4-42e9-4c23-9645-05e45079ebd1",
   "metadata": {},
   "outputs": [],
   "source": [
    "Directories"
   ]
  },
  {
   "cell_type": "code",
   "execution_count": null,
   "id": "fc6c2f96-8b18-428d-877b-61f81d150352",
   "metadata": {},
   "outputs": [],
   "source": [
    "d[\"student\"]={\"name\": \"Arti\" \"course\": \"DS\"}"
   ]
  },
  {
   "cell_type": "code",
   "execution_count": null,
   "id": "efb53e97-b345-4876-adbd-81ef2f02c994",
   "metadata": {},
   "outputs": [],
   "source": [
    "Sets"
   ]
  },
  {
   "cell_type": "code",
   "execution_count": 29,
   "id": "d9c39ccb-04c7-4e88-bc96-e71498a74230",
   "metadata": {},
   "outputs": [],
   "source": [
    "s={1,2,3}"
   ]
  },
  {
   "cell_type": "code",
   "execution_count": 30,
   "id": "3d8dc62c-85bf-4c9b-a118-727706197230",
   "metadata": {},
   "outputs": [],
   "source": [
    "s.add(4)"
   ]
  },
  {
   "cell_type": "code",
   "execution_count": 31,
   "id": "7b714205-07c3-40ba-8346-12955a3d6bef",
   "metadata": {},
   "outputs": [
    {
     "data": {
      "text/plain": [
       "{1, 2, 3, 4}"
      ]
     },
     "execution_count": 31,
     "metadata": {},
     "output_type": "execute_result"
    }
   ],
   "source": [
    "s"
   ]
  },
  {
   "cell_type": "code",
   "execution_count": null,
   "id": "a021ee8d-0174-4d3a-a45d-8edb5fb1e566",
   "metadata": {},
   "outputs": [],
   "source": [
    "Examples of immutable data type:-"
   ]
  },
  {
   "cell_type": "code",
   "execution_count": null,
   "id": "022ff66e-5959-49bc-84dc-a80112dd0acd",
   "metadata": {},
   "outputs": [],
   "source": [
    "integers"
   ]
  },
  {
   "cell_type": "code",
   "execution_count": 32,
   "id": "3db754d4-344e-44b3-8b33-a811f95c4c94",
   "metadata": {},
   "outputs": [],
   "source": [
    "i=5"
   ]
  },
  {
   "cell_type": "code",
   "execution_count": 33,
   "id": "20634009-6b95-443c-b3d3-da1f99025034",
   "metadata": {},
   "outputs": [],
   "source": [
    "i+=1"
   ]
  },
  {
   "cell_type": "code",
   "execution_count": 34,
   "id": "dc4686b0-eb25-468b-a899-d9cb690b6f43",
   "metadata": {},
   "outputs": [
    {
     "data": {
      "text/plain": [
       "6"
      ]
     },
     "execution_count": 34,
     "metadata": {},
     "output_type": "execute_result"
    }
   ],
   "source": [
    "i"
   ]
  },
  {
   "cell_type": "code",
   "execution_count": 35,
   "id": "4374705a-857d-480b-a4c2-b791f75210fe",
   "metadata": {},
   "outputs": [],
   "source": [
    "f=3.14"
   ]
  },
  {
   "cell_type": "code",
   "execution_count": 36,
   "id": "d150ef68-936e-4b2b-abf0-4f47ccf88f93",
   "metadata": {},
   "outputs": [],
   "source": [
    "f*=2"
   ]
  },
  {
   "cell_type": "code",
   "execution_count": 37,
   "id": "689f87a4-4422-420c-a037-8b1f48d8c71a",
   "metadata": {},
   "outputs": [
    {
     "data": {
      "text/plain": [
       "6.28"
      ]
     },
     "execution_count": 37,
     "metadata": {},
     "output_type": "execute_result"
    }
   ],
   "source": [
    "f"
   ]
  },
  {
   "cell_type": "code",
   "execution_count": 38,
   "id": "d6680181-b33d-41f4-b3b4-990f14b8ae45",
   "metadata": {},
   "outputs": [],
   "source": [
    "s='Patna'"
   ]
  },
  {
   "cell_type": "code",
   "execution_count": 39,
   "id": "ed3525d2-8c22-44cc-955e-ad97af6dc539",
   "metadata": {},
   "outputs": [],
   "source": [
    "s+= 'bihar'"
   ]
  },
  {
   "cell_type": "code",
   "execution_count": 40,
   "id": "f1489c77-3be3-4eea-af01-79ee5f3094b3",
   "metadata": {},
   "outputs": [
    {
     "data": {
      "text/plain": [
       "'Patnabihar'"
      ]
     },
     "execution_count": 40,
     "metadata": {},
     "output_type": "execute_result"
    }
   ],
   "source": [
    "s"
   ]
  },
  {
   "cell_type": "code",
   "execution_count": null,
   "id": "05aa6cc6-55c9-47b4-a837-010911b295fb",
   "metadata": {},
   "outputs": [],
   "source": []
  }
 ],
 "metadata": {
  "kernelspec": {
   "display_name": "Python 3 (ipykernel)",
   "language": "python",
   "name": "python3"
  },
  "language_info": {
   "codemirror_mode": {
    "name": "ipython",
    "version": 3
   },
   "file_extension": ".py",
   "mimetype": "text/x-python",
   "name": "python",
   "nbconvert_exporter": "python",
   "pygments_lexer": "ipython3",
   "version": "3.10.6"
  }
 },
 "nbformat": 4,
 "nbformat_minor": 5
}
